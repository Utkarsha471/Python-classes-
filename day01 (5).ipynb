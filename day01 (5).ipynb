{
  "nbformat": 4,
  "nbformat_minor": 0,
  "metadata": {
    "colab": {
      "provenance": []
    },
    "kernelspec": {
      "name": "python3",
      "display_name": "Python 3"
    },
    "language_info": {
      "name": "python"
    }
  },
  "cells": [
    {
      "cell_type": "code",
      "source": [
        "print(\"Hello Word\")"
      ],
      "metadata": {
        "colab": {
          "base_uri": "https://localhost:8080/"
        },
        "id": "A5KTyGbCrj4C",
        "outputId": "cf29a63c-e5b7-467d-d3d3-3783b9c8229a"
      },
      "execution_count": 393,
      "outputs": [
        {
          "output_type": "stream",
          "name": "stdout",
          "text": [
            "Hello Word\n"
          ]
        }
      ]
    },
    {
      "cell_type": "code",
      "source": [
        "print(\"Good Morning\")"
      ],
      "metadata": {
        "colab": {
          "base_uri": "https://localhost:8080/"
        },
        "id": "aZZ1wCLKr5FR",
        "outputId": "1c88fbee-2d03-4fed-9348-b6339c82f2cb"
      },
      "execution_count": 394,
      "outputs": [
        {
          "output_type": "stream",
          "name": "stdout",
          "text": [
            "Good Morning\n"
          ]
        }
      ]
    },
    {
      "cell_type": "code",
      "source": [
        "print(\"KLE'S BK College Chikodi\")"
      ],
      "metadata": {
        "colab": {
          "base_uri": "https://localhost:8080/"
        },
        "id": "GzTrmR3JsC73",
        "outputId": "b365d370-726f-4c33-c76b-db7be04fb343"
      },
      "execution_count": 395,
      "outputs": [
        {
          "output_type": "stream",
          "name": "stdout",
          "text": [
            "KLE'S BK College Chikodi\n"
          ]
        }
      ]
    },
    {
      "cell_type": "code",
      "source": [
        "print(\"Jnana Pragati PU College Pattankudi\")"
      ],
      "metadata": {
        "colab": {
          "base_uri": "https://localhost:8080/"
        },
        "id": "fjnYgilasB1X",
        "outputId": "2dd59b1d-3c75-4eea-c7e5-c9bd6ee77865"
      },
      "execution_count": 396,
      "outputs": [
        {
          "output_type": "stream",
          "name": "stdout",
          "text": [
            "Jnana Pragati PU College Pattankudi\n"
          ]
        }
      ]
    },
    {
      "cell_type": "code",
      "source": [
        "print(\"5\"+\"5\")"
      ],
      "metadata": {
        "colab": {
          "base_uri": "https://localhost:8080/"
        },
        "id": "932appSEtrHX",
        "outputId": "9e298038-7244-4b2a-e883-39f2c6136cc3"
      },
      "execution_count": 397,
      "outputs": [
        {
          "output_type": "stream",
          "name": "stdout",
          "text": [
            "55\n"
          ]
        }
      ]
    },
    {
      "cell_type": "code",
      "source": [
        "print(\"python programing languge \")"
      ],
      "metadata": {
        "colab": {
          "base_uri": "https://localhost:8080/"
        },
        "id": "pZTXZt74Jk3r",
        "outputId": "1512f9a5-6576-46df-a08f-ed2cd3bbb2a1"
      },
      "execution_count": 398,
      "outputs": [
        {
          "output_type": "stream",
          "name": "stdout",
          "text": [
            "python programing languge \n"
          ]
        }
      ]
    },
    {
      "cell_type": "code",
      "source": [
        "print( \"subject hindi english acc dbms cpp ic \\n\" +\"marks 28 24 24 29 30 21 \\n\" )"
      ],
      "metadata": {
        "colab": {
          "base_uri": "https://localhost:8080/"
        },
        "id": "ZWSxzpURN1gq",
        "outputId": "ed6397c8-69df-4ae1-c027-7e3f5ff20c81"
      },
      "execution_count": 399,
      "outputs": [
        {
          "output_type": "stream",
          "name": "stdout",
          "text": [
            "subject hindi english acc dbms cpp ic \n",
            "marks 28 24 24 29 30 21 \n",
            "\n"
          ]
        }
      ]
    },
    {
      "cell_type": "code",
      "source": [
        "name =\"Utkarsha\"\n",
        "print(name)"
      ],
      "metadata": {
        "colab": {
          "base_uri": "https://localhost:8080/"
        },
        "id": "rrYYiJCPN2oE",
        "outputId": "ad7dfdaa-9423-4118-f5ea-344b3a5749c3"
      },
      "execution_count": 400,
      "outputs": [
        {
          "output_type": "stream",
          "name": "stdout",
          "text": [
            "Utkarsha\n"
          ]
        }
      ]
    },
    {
      "cell_type": "code",
      "source": [],
      "metadata": {
        "id": "V_CfG3WHPYul"
      },
      "execution_count": 400,
      "outputs": []
    },
    {
      "cell_type": "code",
      "source": [
        "print(\"good\"+\"morning\")"
      ],
      "metadata": {
        "colab": {
          "base_uri": "https://localhost:8080/"
        },
        "id": "I9ldgPXINN4R",
        "outputId": "8979623d-a373-420a-cada-9a53b1e1b177"
      },
      "execution_count": 401,
      "outputs": [
        {
          "output_type": "stream",
          "name": "stdout",
          "text": [
            "goodmorning\n"
          ]
        }
      ]
    },
    {
      "cell_type": "code",
      "source": [
        "NA_12_ME = \"Chikodi\"\n",
        "print(NA_12_ME)"
      ],
      "metadata": {
        "colab": {
          "base_uri": "https://localhost:8080/"
        },
        "id": "PHVIL1DEXrAU",
        "outputId": "a56cef64-3674-49b8-a72e-d77d21306f0b"
      },
      "execution_count": 402,
      "outputs": [
        {
          "output_type": "stream",
          "name": "stdout",
          "text": [
            "Chikodi\n"
          ]
        }
      ]
    },
    {
      "cell_type": "code",
      "source": [
        "yes = True\n",
        "print(yes)"
      ],
      "metadata": {
        "colab": {
          "base_uri": "https://localhost:8080/"
        },
        "id": "3lXeC6NNXGBi",
        "outputId": "457dea53-d69d-4c50-be36-8ee77bd0e33c"
      },
      "execution_count": 403,
      "outputs": [
        {
          "output_type": "stream",
          "name": "stdout",
          "text": [
            "True\n"
          ]
        }
      ]
    },
    {
      "cell_type": "code",
      "source": [
        "y= 3.24\n",
        "print(y)"
      ],
      "metadata": {
        "colab": {
          "base_uri": "https://localhost:8080/"
        },
        "id": "aoUgCD1WW3Ll",
        "outputId": "e2d04146-21c2-4bdf-837e-9e972a822fb2"
      },
      "execution_count": 404,
      "outputs": [
        {
          "output_type": "stream",
          "name": "stdout",
          "text": [
            "3.24\n"
          ]
        }
      ]
    },
    {
      "cell_type": "code",
      "source": [
        "x = 10\n",
        "x = 15\n",
        "print (x,x)"
      ],
      "metadata": {
        "colab": {
          "base_uri": "https://localhost:8080/"
        },
        "id": "DH7M4iRMWskz",
        "outputId": "84586a50-3c43-4cca-bc41-1353fa3b4f36"
      },
      "execution_count": 405,
      "outputs": [
        {
          "output_type": "stream",
          "name": "stdout",
          "text": [
            "15 15\n"
          ]
        }
      ]
    },
    {
      "cell_type": "code",
      "source": [
        "age = 15\n",
        "age = 15\n",
        "print ( age,age )"
      ],
      "metadata": {
        "colab": {
          "base_uri": "https://localhost:8080/"
        },
        "id": "nKIHD9ufKdQZ",
        "outputId": "63963725-78a4-466d-9b90-5537b3dfac9c"
      },
      "execution_count": 406,
      "outputs": [
        {
          "output_type": "stream",
          "name": "stdout",
          "text": [
            "15 15\n"
          ]
        }
      ]
    },
    {
      "cell_type": "code",
      "execution_count": 407,
      "metadata": {
        "colab": {
          "base_uri": "https://localhost:8080/"
        },
        "id": "sBarvWmdpwMr",
        "outputId": "c507d006-4fff-4e31-bc5a-b44568a6d282"
      },
      "outputs": [
        {
          "output_type": "stream",
          "name": "stdout",
          "text": [
            "Utkarsha\n"
          ]
        }
      ],
      "source": [
        "print(\"Utkarsha\")"
      ]
    },
    {
      "cell_type": "code",
      "source": [
        "name = \"college\"\n",
        "per = 86.67\n",
        "print(name,per)"
      ],
      "metadata": {
        "colab": {
          "base_uri": "https://localhost:8080/"
        },
        "id": "kzvHmV4oYOAy",
        "outputId": "aa72eaa5-0cf6-4f2b-d5f0-36cd3c7038e9"
      },
      "execution_count": 408,
      "outputs": [
        {
          "output_type": "stream",
          "name": "stdout",
          "text": [
            "college 86.67\n"
          ]
        }
      ]
    },
    {
      "cell_type": "code",
      "source": [
        "text = \"Good evening\"\n",
        "address = \"I'm from chikodi\"\n",
        "print (\"Hello\",text,\"How are you,im fine, where are you from\",address,\" so nice\")"
      ],
      "metadata": {
        "colab": {
          "base_uri": "https://localhost:8080/"
        },
        "id": "GsJ5Lgj_c_iK",
        "outputId": "2d55d770-7fdd-47ea-cfe6-5e189b614cef"
      },
      "execution_count": 409,
      "outputs": [
        {
          "output_type": "stream",
          "name": "stdout",
          "text": [
            "Hello Good evening How are you,im fine, where are you from I'm from chikodi  so nice\n"
          ]
        }
      ]
    }
  ]
}