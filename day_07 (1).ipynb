{
  "nbformat": 4,
  "nbformat_minor": 0,
  "metadata": {
    "colab": {
      "provenance": []
    },
    "kernelspec": {
      "name": "python3",
      "display_name": "Python 3"
    },
    "language_info": {
      "name": "python"
    }
  },
  "cells": [
    {
      "cell_type": "code",
      "execution_count": 983,
      "metadata": {
        "colab": {
          "base_uri": "https://localhost:8080/"
        },
        "id": "MRnb-kTqhPQu",
        "outputId": "11ba1004-16d0-4055-cdfa-c6782f920b67"
      },
      "outputs": [
        {
          "output_type": "stream",
          "name": "stdout",
          "text": [
            "Total value is: 15\n",
            "Total value is: 18\n",
            "Total value is: 90\n"
          ]
        }
      ],
      "source": [
        "# 1) Example sum of numbers using *args\n",
        "def add(*args):\n",
        "  total = 0\n",
        "  for num in args:\n",
        "    total += num\n",
        "  print(\"Total value is:\", total)\n",
        "\n",
        "add(10,5)\n",
        "add(5,4,9)\n",
        "add(10,46,14,20)"
      ]
    },
    {
      "cell_type": "code",
      "source": [
        "def details (**kwargs):\n",
        "      for key,value in kwargs.items():\n",
        "        print(f'My detals is {key} and {value}')\n",
        "\n",
        "details(course=\"BCA\",Section='C',collge=\"BK college\")\n",
        "details(place = \"Bengaluru\")\n",
        "details(roll_num = 201, T_Subject=7)\n",
        "details(laptop = \"lenovo\",O_S = \"Window\",year = 2022, version = \"Windows\")"
      ],
      "metadata": {
        "colab": {
          "base_uri": "https://localhost:8080/"
        },
        "id": "nk1SsPkboRVL",
        "outputId": "36077e32-8309-4ec8-c5ad-0875d50e75ba"
      },
      "execution_count": 984,
      "outputs": [
        {
          "output_type": "stream",
          "name": "stdout",
          "text": [
            "My detals is course and BCA\n",
            "My detals is Section and C\n",
            "My detals is collge and BK college\n",
            "My detals is place and Bengaluru\n",
            "My detals is roll_num and 201\n",
            "My detals is T_Subject and 7\n",
            "My detals is laptop and lenovo\n",
            "My detals is O_S and Window\n",
            "My detals is year and 2022\n",
            "My detals is version and Windows\n"
          ]
        }
      ]
    },
    {
      "cell_type": "code",
      "source": [
        "# Example of *args and **kwargs\n",
        "def Show_values(*args,**kwargs):\n",
        "    print(\"Positional Arguments represented in Tuple\",args)\n",
        "    print(\"Key- words Arguments represented in Dist \",kwargs)\n",
        "Show_values(1,2,3,4,name=\"Utkarsha\")"
      ],
      "metadata": {
        "colab": {
          "base_uri": "https://localhost:8080/"
        },
        "id": "-Is7Cj_Dsesi",
        "outputId": "2a5e9753-add3-433e-d04d-5085ba393694"
      },
      "execution_count": 985,
      "outputs": [
        {
          "output_type": "stream",
          "name": "stdout",
          "text": [
            "Positional Arguments represented in Tuple (1, 2, 3, 4)\n",
            "Key- words Arguments represented in Dist  {'name': 'Utkarsha'}\n"
          ]
        }
      ]
    },
    {
      "cell_type": "code",
      "source": [
        "i = 1\n",
        "fact=1\n",
        "while i<=5:\n",
        "  fact=fact*i\n",
        "  i=i+1\n",
        "print(fact)"
      ],
      "metadata": {
        "colab": {
          "base_uri": "https://localhost:8080/"
        },
        "id": "_0DBoOVFwvFj",
        "outputId": "b4db9101-c04c-4401-8296-0084c26c6af0"
      },
      "execution_count": 986,
      "outputs": [
        {
          "output_type": "stream",
          "name": "stdout",
          "text": [
            "120\n"
          ]
        }
      ]
    },
    {
      "cell_type": "code",
      "source": [
        "fact = 1\n",
        "for i in range(1,6):\n",
        "  fact=fact*i\n",
        "print(fact)"
      ],
      "metadata": {
        "colab": {
          "base_uri": "https://localhost:8080/"
        },
        "id": "xmqhiu-cxrJK",
        "outputId": "459c10bc-be3f-4b62-852d-0793ea106d1a"
      },
      "execution_count": 987,
      "outputs": [
        {
          "output_type": "stream",
          "name": "stdout",
          "text": [
            "120\n"
          ]
        }
      ]
    },
    {
      "cell_type": "code",
      "source": [
        "def fact(num):\n",
        "  if num==0 or num==1 :\n",
        "    return num\n",
        "  else:\n",
        "    return num*fact(num-1)\n",
        "print(fact(5))"
      ],
      "metadata": {
        "colab": {
          "base_uri": "https://localhost:8080/"
        },
        "id": "06WXErI90Xji",
        "outputId": "32c7ccb0-4f11-4cd2-fdae-4b4175b56f55"
      },
      "execution_count": 988,
      "outputs": [
        {
          "output_type": "stream",
          "name": "stdout",
          "text": [
            "120\n"
          ]
        }
      ]
    },
    {
      "cell_type": "code",
      "source": [
        "def Sum(num):\n",
        "  if num == 0:\n",
        "    return num\n",
        "  else :\n",
        "    return num+Sum(num-1)\n",
        "print(\"Sum of natural number is:\",Sum(10))"
      ],
      "metadata": {
        "colab": {
          "base_uri": "https://localhost:8080/"
        },
        "id": "gKh-1iGe07bK",
        "outputId": "9232e532-0221-4b2b-b775-0afc710cdb06"
      },
      "execution_count": 989,
      "outputs": [
        {
          "output_type": "stream",
          "name": "stdout",
          "text": [
            "Sum of natural number is: 55\n"
          ]
        }
      ]
    },
    {
      "cell_type": "code",
      "source": [
        "def fibo(num):\n",
        "  if num<= 1:\n",
        "    return num\n",
        "  else:\n",
        "    return fibo(num-1)+fibo(num-2)\n",
        "for i in range(11):\n",
        "  print(fibo(i),end= \"  \")"
      ],
      "metadata": {
        "colab": {
          "base_uri": "https://localhost:8080/"
        },
        "id": "Peem46O03_vy",
        "outputId": "acc7b7dd-4730-4637-8c6f-e0635765b537"
      },
      "execution_count": 990,
      "outputs": [
        {
          "output_type": "stream",
          "name": "stdout",
          "text": [
            "0  1  1  2  3  5  8  13  21  34  55  "
          ]
        }
      ]
    },
    {
      "cell_type": "code",
      "source": [
        "name = \"manu\"\n",
        "print(name[:4])"
      ],
      "metadata": {
        "colab": {
          "base_uri": "https://localhost:8080/"
        },
        "id": "_dlXT-W49BlT",
        "outputId": "c2c436cc-0144-4dc0-926e-f0d24b19308c"
      },
      "execution_count": 991,
      "outputs": [
        {
          "output_type": "stream",
          "name": "stdout",
          "text": [
            "manu\n"
          ]
        }
      ]
    },
    {
      "cell_type": "code",
      "source": [
        "class fruit:\n",
        "  colour = \"Orange\"\n",
        "  price = 250\n",
        "  test = \"Sweet\"\n",
        "  shape = \"Circle\"\n",
        "  def juice(self):\n",
        "   print(\"good\")\n",
        "Orange = fruit()\n",
        "print(\"orange colour is \",Orange.colour)\n"
      ],
      "metadata": {
        "colab": {
          "base_uri": "https://localhost:8080/"
        },
        "id": "xODv5BaUAl2c",
        "outputId": "ded00490-a95f-4af6-b807-f10bdde92198"
      },
      "execution_count": 992,
      "outputs": [
        {
          "output_type": "stream",
          "name": "stdout",
          "text": [
            "orange colour is  Orange\n"
          ]
        }
      ]
    },
    {
      "cell_type": "code",
      "source": [
        "class Flower:\n",
        "  Smell=\"nice\"\n",
        "  petal=5\n",
        "  size=\"medium\"\n",
        "  gender=\"female\"\n",
        "  validity = 1.5\n",
        "  def Decoration(self):\n",
        "    print(\"Hello Good Morning\")\n",
        "  def Gift(self):\n",
        "    print(\"Good Afternoon\")\n",
        "  def Marriege(self):\n",
        "    print(\"Marriege\")\n",
        "  def Death(self):\n",
        "    print(\"This flower using for death time\")\n",
        "obj = Flower()\n",
        "obj.Death()"
      ],
      "metadata": {
        "colab": {
          "base_uri": "https://localhost:8080/"
        },
        "id": "UzancjDPMJ6r",
        "outputId": "2f0bfbe7-b61a-40a6-981e-d7e762f27600"
      },
      "execution_count": 993,
      "outputs": [
        {
          "output_type": "stream",
          "name": "stdout",
          "text": [
            "This flower using for death time\n"
          ]
        }
      ]
    },
    {
      "cell_type": "code",
      "source": [
        "class fan :\n",
        "  coluor = \"black\"\n",
        "  wings = 3\n",
        "  c_name = \"bajaj\"\n",
        "  price = 1500\n",
        "  warrenty = \"2 years\"\n",
        "  def start(self):\n",
        "      print(\"when click on button it'll start\")\n",
        "  def speed(self):\n",
        "      print(\"based on condition it'll change the speed\")\n",
        "  def stop(self):\n",
        "      print(\"when click on button it'll stop\")\n"
      ],
      "metadata": {
        "id": "bPftbgMuOgJz"
      },
      "execution_count": 994,
      "outputs": []
    },
    {
      "cell_type": "code",
      "source": [
        "def fun(name):\n",
        "  print(\"my name is a\",name)\n",
        "fun(\"UTKARSHA\")"
      ],
      "metadata": {
        "id": "-foXZZNJRTpj",
        "colab": {
          "base_uri": "https://localhost:8080/"
        },
        "outputId": "cac7e136-bb99-49de-f480-47a404ce0360"
      },
      "execution_count": 995,
      "outputs": [
        {
          "output_type": "stream",
          "name": "stdout",
          "text": [
            "my name is a UTKARSHA\n"
          ]
        }
      ]
    },
    {
      "cell_type": "code",
      "source": [
        "# Encapulation Example\n",
        "class Student :\n",
        "  def __init__(self,name,marks,place):\n",
        "    self.__name = name\n",
        "    self.__marks = marks\n",
        "    self.place = place\n",
        "\n",
        "  def set_method(self,name,marks):\n",
        "      self.name = name\n",
        "      self.marks = marks\n",
        "\n",
        "  def get_method(self):\n",
        "    return self.name + \" \" +str(self.marks)\n",
        "\n",
        "Obj = Student (\"Utkarsha\",185,\"Belagavi\")\n",
        "Obj.set_method (\"ABCD\",11)\n",
        "print(Obj.get_method())"
      ],
      "metadata": {
        "colab": {
          "base_uri": "https://localhost:8080/"
        },
        "id": "VFIgUmyCPpTi",
        "outputId": "f61367f0-6027-4b11-878b-792b98063744"
      },
      "execution_count": 996,
      "outputs": [
        {
          "output_type": "stream",
          "name": "stdout",
          "text": [
            "ABCD 11\n"
          ]
        }
      ]
    },
    {
      "cell_type": "code",
      "source": [
        "# Single Inheritance\n",
        "class Parent :\n",
        "  def Work(self):\n",
        "    print(\"My parents are doing farming\")\n",
        "class Children(Parent):\n",
        "  def Study(self):\n",
        "    print(\"I'm studying BCA in BK College\")\n",
        "obj = Children()\n",
        "obj.Work()\n",
        "obj.Study()"
      ],
      "metadata": {
        "colab": {
          "base_uri": "https://localhost:8080/"
        },
        "id": "EBsZgFz3Y55N",
        "outputId": "24787eaf-4417-4fa7-ad51-80832128c334"
      },
      "execution_count": 997,
      "outputs": [
        {
          "output_type": "stream",
          "name": "stdout",
          "text": [
            "My parents are doing farming\n",
            "I'm studying BCA in BK College\n"
          ]
        }
      ]
    },
    {
      "cell_type": "code",
      "source": [
        "# Multiple Inheitance\n",
        "class Father :\n",
        "  def Hi(us):\n",
        "    print(\"My father is my first hero\")\n",
        "class Mother :\n",
        "  def Hello( us):\n",
        "    print(\"My mother is house wife\")\n",
        "class Child(Father,Mother):\n",
        "  def Bye(self):\n",
        "    print(\"I'm studying BCA in BK College\")\n",
        "obj = Child()\n",
        "obj.Hello()\n",
        "obj.Bye()"
      ],
      "metadata": {
        "colab": {
          "base_uri": "https://localhost:8080/"
        },
        "id": "FiWQsbc3c_R9",
        "outputId": "6ceeb03b-ea34-4f7f-870b-ca954cb36829"
      },
      "execution_count": 998,
      "outputs": [
        {
          "output_type": "stream",
          "name": "stdout",
          "text": [
            "My mother is house wife\n",
            "I'm studying BCA in BK College\n"
          ]
        }
      ]
    },
    {
      "cell_type": "code",
      "source": [
        "# Multi level Inheritance\n",
        "class GrandFather :\n",
        "  def Army(self):\n",
        "    print(\" Nation hero\")\n",
        "class Parents (GrandFather):\n",
        "  def Farmer(self):\n",
        "    print(\" Caption of life\")\n",
        "class Child (Parents):\n",
        "  def Student(me):\n",
        "    print(\"Be our own Sunshine\")\n",
        "Obj.GrandFather()\n",
        "Obj.Parent()\n",
        "Obj.Child()"
      ],
      "metadata": {
        "colab": {
          "base_uri": "https://localhost:8080/",
          "height": 211
        },
        "id": "SWaPWDbTfW6G",
        "outputId": "90744e0d-8320-4a4d-f2c8-2551553762ea"
      },
      "execution_count": 999,
      "outputs": [
        {
          "output_type": "error",
          "ename": "AttributeError",
          "evalue": "'Student' object has no attribute 'GrandFather'",
          "traceback": [
            "\u001b[0;31m---------------------------------------------------------------------------\u001b[0m",
            "\u001b[0;31mAttributeError\u001b[0m                            Traceback (most recent call last)",
            "\u001b[0;32m/tmp/ipython-input-1418905844.py\u001b[0m in \u001b[0;36m<cell line: 0>\u001b[0;34m()\u001b[0m\n\u001b[1;32m      9\u001b[0m   \u001b[0;32mdef\u001b[0m \u001b[0mStudent\u001b[0m\u001b[0;34m(\u001b[0m\u001b[0mme\u001b[0m\u001b[0;34m)\u001b[0m\u001b[0;34m:\u001b[0m\u001b[0;34m\u001b[0m\u001b[0;34m\u001b[0m\u001b[0m\n\u001b[1;32m     10\u001b[0m     \u001b[0mprint\u001b[0m\u001b[0;34m(\u001b[0m\u001b[0;34m\"Be our own Sunshine\"\u001b[0m\u001b[0;34m)\u001b[0m\u001b[0;34m\u001b[0m\u001b[0;34m\u001b[0m\u001b[0m\n\u001b[0;32m---> 11\u001b[0;31m \u001b[0mObj\u001b[0m\u001b[0;34m.\u001b[0m\u001b[0mGrandFather\u001b[0m\u001b[0;34m(\u001b[0m\u001b[0;34m)\u001b[0m\u001b[0;34m\u001b[0m\u001b[0;34m\u001b[0m\u001b[0m\n\u001b[0m\u001b[1;32m     12\u001b[0m \u001b[0mObj\u001b[0m\u001b[0;34m.\u001b[0m\u001b[0mParent\u001b[0m\u001b[0;34m(\u001b[0m\u001b[0;34m)\u001b[0m\u001b[0;34m\u001b[0m\u001b[0;34m\u001b[0m\u001b[0m\n\u001b[1;32m     13\u001b[0m \u001b[0mObj\u001b[0m\u001b[0;34m.\u001b[0m\u001b[0mChild\u001b[0m\u001b[0;34m(\u001b[0m\u001b[0;34m)\u001b[0m\u001b[0;34m\u001b[0m\u001b[0;34m\u001b[0m\u001b[0m\n",
            "\u001b[0;31mAttributeError\u001b[0m: 'Student' object has no attribute 'GrandFather'"
          ]
        }
      ]
    },
    {
      "cell_type": "code",
      "source": [
        "#Hirarchy Inheritance\n",
        "class Parents :\n",
        "  def Business(self):\n",
        "    print(\"My parents are doing Business\")\n",
        "class Child1(Parents):\n",
        "  def Study(self):\n",
        "    print(\"I'm studying BCA in BK College\")\n",
        "class Child2(Parents):\n",
        "  def Study(self):\n",
        "    print(\"I'm studying PUC in JP College\")\n",
        "Ch = Child1()\n",
        "Ch.Business()\n",
        "Ch.Study()\n",
        "\n",
        "Obj = Child2()\n",
        "Obj.Business()\n",
        "Obj.Study()"
      ],
      "metadata": {
        "id": "l-n65KgUiUbu"
      },
      "execution_count": null,
      "outputs": []
    },
    {
      "cell_type": "code",
      "source": [
        "# Hybrid Inheritance\n",
        "class A :\n",
        "  def Hi(self):\n",
        "    print(\" Hiiiiiii\")\n",
        "\n",
        "class B(A) :\n",
        "  def Hello(self):\n",
        "    print(\"Hellooooooo\")\n",
        "\n",
        "class C(A):\n",
        "  def Bye(self):\n",
        "    print(\"Byeeeeee\")\n",
        "\n",
        "class D(B,C):\n",
        "  def Good(self):\n",
        "    print(\"Gooddddd\")\n",
        "\n",
        "Obj = D()\n",
        "Obj.Hi()\n",
        "Obj.Hello()\n",
        "Obj.Bye()\n",
        "Obj.Good()"
      ],
      "metadata": {
        "id": "8BM7ecU0lRY3",
        "outputId": "723c6233-cc01-41d8-c823-30f9b12a0ae5",
        "colab": {
          "base_uri": "https://localhost:8080/"
        }
      },
      "execution_count": 1000,
      "outputs": [
        {
          "output_type": "stream",
          "name": "stdout",
          "text": [
            " Hiiiiiii\n",
            "Hellooooooo\n",
            "Byeeeeee\n",
            "Gooddddd\n"
          ]
        }
      ]
    }
  ]
}