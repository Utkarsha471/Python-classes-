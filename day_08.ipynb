{
  "nbformat": 4,
  "nbformat_minor": 0,
  "metadata": {
    "colab": {
      "provenance": []
    },
    "kernelspec": {
      "name": "python3",
      "display_name": "Python 3"
    },
    "language_info": {
      "name": "python"
    }
  },
  "cells": [
    {
      "cell_type": "code",
      "execution_count": 189,
      "metadata": {
        "colab": {
          "base_uri": "https://localhost:8080/"
        },
        "id": "LmP2XjrBPNPc",
        "outputId": "2cd221d4-1bae-48ce-96b6-be3d63574032"
      },
      "outputs": [
        {
          "output_type": "stream",
          "name": "stdout",
          "text": [
            "5\n",
            "25\n",
            "-4\n"
          ]
        }
      ],
      "source": [
        "# Compile time / Method Overloading Polymorphism\n",
        "class BCA_1St_Semester :\n",
        "    def student(self,a,b=0,c=0,d=0):\n",
        "        return a+b+c+d\n",
        "\n",
        "BCA = BCA_1St_Semester()\n",
        "print(BCA.student(5))\n",
        "print(BCA.student (10,7,8))\n",
        "print(BCA.student(3,-9,2))"
      ]
    },
    {
      "cell_type": "code",
      "source": [
        "# Run time / Method overriding\n",
        "class Animal :\n",
        "    def sound(self):\n",
        "        print(\"Animal makes a sound\")\n",
        "\n",
        "class Dog(Animal):\n",
        "    def sound(self):\n",
        "        print(\"Bow Bow Bow Bow\")\n",
        "\n",
        "class Cat(Animal):\n",
        "    def sound(self):\n",
        "        print(\"Meow Meow Meow Meow\")\n",
        "\n",
        "class Tiger(Animal):\n",
        "    def sound(self):\n",
        "        print(\"Roar Roar Roar Roar\")\n",
        "class Cow(Animal):\n",
        "    def sound(self):\n",
        "        print(\"Ambaaaaaaaaaaaaaaa\")\n",
        "Obj1 = Animal()\n",
        "Obj2 = Dog()\n",
        "Obj3 = Cat()\n",
        "Obj4 = Tiger()\n",
        "Obj5 = Cow()\n",
        "Obj1.sound()\n",
        "Obj2.sound()\n",
        "Obj3.sound()\n",
        "Obj4.sound()\n",
        "Obj5.sound()\n"
      ],
      "metadata": {
        "colab": {
          "base_uri": "https://localhost:8080/"
        },
        "id": "0dBQHfsIeVuH",
        "outputId": "49eb403b-17f6-40b2-a051-3f752e218b44"
      },
      "execution_count": 190,
      "outputs": [
        {
          "output_type": "stream",
          "name": "stdout",
          "text": [
            "Animal makes a sound\n",
            "Bow Bow Bow Bow\n",
            "Meow Meow Meow Meow\n",
            "Roar Roar Roar Roar\n",
            "Ambaaaaaaaaaaaaaaa\n"
          ]
        }
      ]
    },
    {
      "cell_type": "code",
      "source": [
        "# Operator Overloading Polymorphism\n",
        "class Book :\n",
        "    def __init__(self,pages):\n",
        "        self.pages = pages\n",
        "    def __add__(self,other):\n",
        "        return self.pages + other.pages\n",
        "Obj1 = Book(200)\n",
        "Obj2 = Book(300)\n",
        "print(\"Total pages is\",Obj1+ Obj2)"
      ],
      "metadata": {
        "colab": {
          "base_uri": "https://localhost:8080/"
        },
        "id": "yLH2s-aXifQg",
        "outputId": "023f5018-5383-4237-fc04-7bee64aac895"
      },
      "execution_count": 191,
      "outputs": [
        {
          "output_type": "stream",
          "name": "stdout",
          "text": [
            "Total pages is 500\n"
          ]
        }
      ]
    },
    {
      "cell_type": "code",
      "source": [
        "# Abstraction example\n",
        "from abc import ABC, abstractmethod\n",
        "class Vehicle(ABC):\n",
        "    def sound(self):\n",
        "        pass\n",
        "class Car(Vehicle):\n",
        "    def sound(self):\n",
        "        print(\"i'm driving a car\")\n",
        "Obj = Car()\n",
        "Obj.sound()"
      ],
      "metadata": {
        "colab": {
          "base_uri": "https://localhost:8080/"
        },
        "id": "oSNd64Rwn8YD",
        "outputId": "331512da-e3c7-484e-cb54-75f927aab9c4"
      },
      "execution_count": 192,
      "outputs": [
        {
          "output_type": "stream",
          "name": "stdout",
          "text": [
            "i'm driving a car\n"
          ]
        }
      ]
    },
    {
      "cell_type": "code",
      "source": [
        "# Abstraction Examples\n",
        "from abc import ABC, abstractmethod\n",
        "class Game(ABC):\n",
        "\n",
        "  # Normal function / method\n",
        "    def Free_fire(self):\n",
        "        print(\"Winner Winner Chikken Dinner\")\n",
        "\n",
        "  # Abstract function / method\n",
        "    def BGMI(self):\n",
        "      pass\n",
        "\n",
        "  # Normal function / method\n",
        "    def Ludo_King(self):\n",
        "      print(\"I'm win the game\")\n",
        "\n",
        "class Temple_Run(Game):\n",
        " # BGMI function implemented by sub class\n",
        "    def BGMI(self):\n",
        "      print(\"I got Royal pass Diamond\")\n",
        " # Normal function\n",
        "    def Chess(self):\n",
        "      print(\"I'm a district player\")\n",
        "Obj = Temple_Run()\n",
        "Obj.BGMI()\n",
        "Obj.Ludo_King()\n",
        "Obj.Chess()\n",
        "Obj.Free_fire()\n"
      ],
      "metadata": {
        "colab": {
          "base_uri": "https://localhost:8080/"
        },
        "id": "ivFYqMDtpM3v",
        "outputId": "d9dd37a3-16cf-4777-c6ae-36c37dacc9e0"
      },
      "execution_count": 193,
      "outputs": [
        {
          "output_type": "stream",
          "name": "stdout",
          "text": [
            "I got Royal pass Diamond\n",
            "I'm win the game\n",
            "I'm a district player\n",
            "Winner Winner Chikken Dinner\n"
          ]
        }
      ]
    },
    {
      "cell_type": "code",
      "source": [
        "def ask_questions(questions,option,answer):\n",
        "    print(\"\\n\",questions)\n",
        "    for key,value in option.items():\n",
        "      print(f\"{key}.{value}\")\n",
        "\n",
        "    user_choice=input(\"Enter your choice(a/b/c/d):\").lower()\n",
        "\n",
        "    match user_choice:\n",
        "      case 'a'|'b'|'c'|'d':\n",
        "        if user_choice ==answer:\n",
        "          print(\"Correct Answer\")\n",
        "          return\n",
        "        else:\n",
        "          print(\"Wrong Answer\")\n",
        "          return 0\n",
        "    print(\"Welcome to Python Quiz Competition\")\n",
        "    player_name=input(\"Enter your name:\")\n",
        "    score=0\n",
        "    questions=[\n",
        "        {\"q\":\"1)Which of the following is a valid variable name?\",\n",
        "         \"options\":{\"a\":\"1var\",\"b\":\"var1\",\"c\":\"var-1\",\"d\":\"var1\"},\"ans\":\"b\"},\n",
        "\n",
        "        {\"q\":\"2)What is the output of:x=5; x+=3;print(x)\",\n",
        "         \"options\":{\"a\":\"8\",\"b\":\"53\",\"c\":\"5\",\"d\":\"Error\"},\"ans\":\"a\"},\n",
        "\n",
        "        {\"q\":\"3)Which of the following is immutable?\",\n",
        "         \"options\":{\"a\":\"List\",\"b\":\"Set\",\"c\":\"Tuple\",\"d\":\"Dictionary\"},\"ans\":\"c\"},\n",
        "\n",
        "        {\"q\":\"4)Type of 3.14 in Python?\",\n",
        "         \"options\":{\"a\":\"int\",\"b\":\"float\",\"c\":\"str\",\"d\":\"double\"},\"ans\":\"b\"},\n",
        "\n",
        "       {\"q\":\"5)Which of these is a dictinary?\",\n",
        "         \"options\":{\"a\":[1,2,3],\"b\":\"(1,2,3),\"c\":{'a':1}\",\"d\":\"{1,2,3}}\",\"ans\":\"c\"},\n",
        "\n",
        "\n",
        "       {\"q\":\"6)What is output of len({1,2,3,4})?\",\n",
        "          \"options\":{\"a\":\"3\",\"b\":\"4\",\"c\":\"Error\",\"d\":\"0\"},\"ans\":\"b\"},\n",
        "\n",
        "        {\"q\":\"7)Output of5**2?\",\n",
        "          \"options\":{\"a\"}:\"10\",\"b\":\"25\",\"c\":\"7\",\"d\":\"52\"},\"ans\":\"b\"},\n",
        "\n",
        "        {\"q\":\"8)Which oprator is floor division?\",\n",
        "         \"option\":{\"a\":\"/\",\"b\":\"//\",\"c\":\"%\",\"d\":\"**\"},\"ans\":\"b\"},\n",
        "\n",
        "        {\"q\":\"9)Output of:if 5>3:\\n print('yes')\",\n",
        "         \"option\":{\"a\":\"Yes\",\"b\":\"No\",\"c\":\"Error\",\"d\":\"5>3\"},\"ans\":\"a\"},\n",
        "\n",
        "         {\"q\":\"10)Which keyword is used for else-if?\",\n",
        "          \"option\":{\"a\":\"elseif\",\"b\":\"elif\",\"c\":\"else if\",\"d\":\"elifse\"},\"ans\":\"b\"},\n",
        "\n",
        "        {\"q\":\"11)Which loop is used when number of iterations is known?\",\n",
        "           \"option\":{\"a\":\"for\",\"b\":\"while loop\",\"c\":\"do-while loop\",\"d\":\"None\"},\"ans\":\"a\"},\n",
        "\n",
        "        {\"q\":\"12)How to exit a loop immediately?\",\n",
        "         \"option\":{\"a\":\"stop\",\"b\":\"break\",\"c\":\"exit\",\"d\":\"return\"}\"ans\":\"b\"},\n",
        "\n",
        "         {\"q\":\"13)Keyword to define afunction?\",\n",
        "          \"option\":{\"a\":\"fuction\",\"b\":\"def\",\"c\":\"fun\",\"d\":\"define\"},\"ans\":\"b\"},\n",
        "\n",
        "         {\"q\":\"14)Function that returns nothing?\",\n",
        "          \"option\":{\"a\":\"return none\",\"b\":\"void\",\"c\":\"pass\",\"d\":\"all of the above\"},\"ans\":\"a\"},\n",
        "\n",
        "          {\"q\":\"15)Which method is the conctructer in Python class?\",\n",
        "           \"option\":{\"a\":\"__init__\",\"b\":\"__start__,\"c\":\"__create__\",\"d\":\"constructer\"},\"ans\":\"a\"},\n",
        "\n",
        "          {\"q\":\"16)Which of these inheritance example?\",\n",
        "           \"option\":{\"a\":\"class A:\\n pass\\nclass B(A):\\n pass\",\"b\":\"x=5\",\n",
        "                     \"c\":\"def func():pass\",\"d\":\"if true:pass\"},\"ans\":\"a\"},\n",
        "\n",
        "          {\"q\":\"17)What is the type of True?\",\n",
        "           \"option\":{\"a\":\"int\",\"b\":\"bool\",\"c\":\"str\",\"d\":\"float\"},\"ans\":\"b\"},\n",
        "\n",
        "         {\"q\":\"18)Which collection type allows duplicates?\",\n",
        "          \"option\":{\"a\":\"Set\",\"b\":\"Dictinory\",\"c\":\"List\",\"d\":\"Tuple\"},\"ans\":\"c\"},\n",
        "\n",
        "        {\"q\":\"19)Which collectin type is unordered?\",\n",
        "         \"option\":{\"a\":\"List\",\"b\":\"Tuple\",\"c\":\"Set\",\"d\":\"String\"},\"ans\":\"c\"},\n",
        "\n",
        "        {\"q\":\"20)Output of 10 %3?\",\n",
        "         \"option\":{\"a\":\"3\",\"b\":\"1\",\"c\":\"0\",\"d\":\"Error\"},\"ans\":\"b\"},\n",
        "\n",
        "        {\"q\":\"21)If 5>10:\\n print(Yes')\\nelssse:\\n print(No')\",\n",
        "         \"option\":{\"a\":\"Yes\",\"b\":\"No\",\"c\":\"Error\",\"d\":\"5>10\"},\"ans\":\"b\"},\n",
        "\n",
        "        {\"q\":\"22)Output of:nfor i in range(3):n\\ print(i)\",\n",
        "         \"option\":{\"a\":\"1 2 3\",\"b\":\"0 1 2\",\"c\":\"0 1 2 3\",\"d\":\"1 2\"},\"ans\":\"b\"},\n",
        "\n",
        "       {\"q\":\"23)Encapsulation in Python is done by?\",\n",
        "        \"option\":{\"a\":\"private variables\",\"b\":\"inheritance\",\"c\":\"polymorphism\",\"d\":\"encapsulation\"},\"ans\":\"a\"},\n",
        "\n",
        "      {\"q\":\"24)Polymorphism means?\",\n",
        "       \"option\":\"a\":\"multiple forms\",\"b\":\"single form\",\"c\":\"inheritance\",\"d\":\"encapsulation\"},\"ans\":\"a\"},\n",
        "\n",
        "      {\"q\":\"25)Dynamic typing means?\",\n",
        "       \"option\":{\"a\":\"type assigned at runtime\",\"b\":\"type assigned at compile tme\",\n",
        "                 \"c\":\"fixed time\",\"d\":\"error\"},\"ans\":\"a\"},\n",
        "      {\"q\":\"26)Type of none?\",\n",
        "       \"option\":{\"a\":\"int\",\"b\":\"str\",\"c\":\"nonetype\",\"d\":\"bool\"},\"ans\":\"c\"},\n",
        "\n",
        "       {\"q\":\"27)How to access 1st element of list 1=[10,20]/\",\n",
        "        \"option\":{\"a\":\"1[10]\",\"b\":\"1[1]\",\"c\":\"1[-1]\",\"d\":\"1.first\"},\"ans\":\"a\"}\n",
        "\n",
        "      {\"q\":\"28)Which operator is used for logical AND?\",\n",
        "       \"option\":{\"a\":\"and\",\"b\":\"&\",\"c\":\"&&\",\"d\":\"|\"},\"ans\":\"a\"},\n",
        "\n",
        "      {\"q\":\"29)Output: x=5; print('yes'if x>0 else 'no'?\"},\n",
        "        \"option\":{\"a\":\"yes\",\"b\":\"no\",\"c\":\"Error\",\"d\":\"5\"},\"ans\":\"a\"},\n",
        "\n",
        "     {\"q\":\"30)Output:\\ni=0\\nwhile i<3:\\n i+=1?\",\n",
        "      \"option\":{\"a\":\"0 1 2\",\"b\":\"1 2 3\",\"c\":\" 0 1 2 3 \",\"d\":\"Error\"},\"ans\":\"a\"},\n",
        "\n",
        "    {\"q\":\"31)Which returns a value?\",\n",
        "     \"option\":{\"a\":\"print()\",\"b\":\"return\",\"c\":\"pass\",\"d\":\"input()\"},\"ans\":\"b\"},\n",
        "\n",
        "    {\"q\":\"32)Abstraction means?\",\n",
        "     \"option\":{\"a\":\"hiding implementation\",\"b\",\"overloading\",\n",
        "               \"c\":\"inheritance\",\"d\":\"polymorphism\"},\"ans\":\"a\"},\n",
        "\n",
        "     {\"q\":\"33)Which is mutable string type?\",\n",
        "      \"option\":{\"a\":\"str\",\"b\":\"list\",\"c\":\"tuple\",\"d\":\"int\"},\"ans\":\"b\"},\n",
        "\n",
        "    {\"q\":\"34)which keyword is used to inherit?\",\n",
        "     \"ooption\":{\"a\":\"inherits\",\"b\":\"super\",\"c\":\"classB(A)\",\"d\":\"extend\"},\"ans\":\"c\"},\n",
        "\n",
        "\n",
        "    {\"q\":\"35)output of bool('')?\",\n",
        "     \"option\":{\"a\":\"true\",\"b\":\"false\",\"c\":\"none\",\"d\":\"error\"},\"ans\":\"b\"},\n",
        "\n",
        "    {\"q\":\"36)how to create tuple with single elment?\",\n",
        "     \"option\":{\"a\":\"(1)\",\"b\":\"(1,)\",\"c\":\"[1]\",\"d\":\"{1}\"},\"ans\":\"b\"},\n",
        "\n",
        "     {\"q\":\"37)output of 2*3**2?\",\n",
        "      \"option\":{\"a\":\"36\",\"b\":\"18\",\"c\":\"12\",\"d\":\"none\"},\"ans\":\"b\"},\n",
        "\n",
        "     {\"q\":\"38)which of these is not keyword?\",\n",
        "      \"option\":{\"a\":\"pass\",\"b\":\"eval\",\"c\":\"assert\",\"d\":\"return\"},\"ans\":\"b\"},\n",
        "\n",
        "     {\"q\":\"39)which method converts string to lowercase?\",\n",
        "      \"option\":{\"a\":\"lower()\",\"b\":\"up()\",\"c\":\"capitlise()\",\"d\":\"lowercase()\"},\"ans\":\"a\"},\n",
        "\n",
        "    {\"q\":\"40)which collection stores key value pairs?\",\n",
        "     \"option\":{\"a\":\"list\",\"b\":\"tuple\",\"c\":\"dictinory\",\"d\":\"set\"},\"ans\":\"a\"},\n",
        "    ]\n",
        "       for q in questions:\n",
        "           score+= ask_question (q[\"q\"],q[\"option\"],1[\"ans\"])\n",
        "    print(\"\\n----RESULT----\")\n",
        "     print(f\"Player:{player_name}\")\n",
        "     print(f\"Your Score:{score}/{len(questions)}\")\n",
        "\n",
        "           if score==len(questions):\n",
        "            print(\"Excellent!Full Marks\")\n",
        "          elif score>=25:\n",
        "           print(\"Good Job,Keep Practicing!\")\n",
        "          else:\n",
        "           print(\"Needs Improvement!\")\n",
        ""
      ],
      "metadata": {
        "colab": {
          "base_uri": "https://localhost:8080/",
          "height": 106
        },
        "id": "qlvYPGYXzZ9e",
        "outputId": "db00b57a-9173-4e58-9ad5-7f1702c3892f"
      },
      "execution_count": 194,
      "outputs": [
        {
          "output_type": "error",
          "ename": "SyntaxError",
          "evalue": "unterminated string literal (detected at line 64) (ipython-input-1438356665.py, line 64)",
          "traceback": [
            "\u001b[0;36m  File \u001b[0;32m\"/tmp/ipython-input-1438356665.py\"\u001b[0;36m, line \u001b[0;32m64\u001b[0m\n\u001b[0;31m    \"option\":{\"a\":\"__init__\",\"b\":\"__start__,\"c\":\"__create__\",\"d\":\"constructer\"},\"ans\":\"a\"},\u001b[0m\n\u001b[0m                                                                                        ^\u001b[0m\n\u001b[0;31mSyntaxError\u001b[0m\u001b[0;31m:\u001b[0m unterminated string literal (detected at line 64)\n"
          ]
        }
      ]
    }
  ]
}