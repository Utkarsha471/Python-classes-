{
  "nbformat": 4,
  "nbformat_minor": 0,
  "metadata": {
    "colab": {
      "provenance": []
    },
    "kernelspec": {
      "name": "python3",
      "display_name": "Python 3"
    },
    "language_info": {
      "name": "python"
    }
  },
  "cells": [
    {
      "cell_type": "code",
      "execution_count": 947,
      "metadata": {
        "colab": {
          "base_uri": "https://localhost:8080/"
        },
        "id": "MRnb-kTqhPQu",
        "outputId": "0c0236fd-0c37-4bf3-d2ec-393689406e3b"
      },
      "outputs": [
        {
          "output_type": "stream",
          "name": "stdout",
          "text": [
            "Total value is: 15\n",
            "Total value is: 18\n",
            "Total value is: 90\n"
          ]
        }
      ],
      "source": [
        "# 1) Example sum of numbers using *args\n",
        "def add(*args):\n",
        "  total = 0\n",
        "  for num in args:\n",
        "    total += num\n",
        "  print(\"Total value is:\", total)\n",
        "\n",
        "add(10,5)\n",
        "add(5,4,9)\n",
        "add(10,46,14,20)"
      ]
    },
    {
      "cell_type": "code",
      "source": [
        "def details (**kwargs):\n",
        "      for key,value in kwargs.items():\n",
        "        print(f'My detals is {key} and {value}')\n",
        "\n",
        "details(course=\"BCA\",Section='C',collge=\"BK college\")\n",
        "details(place = \"Bengaluru\")\n",
        "details(roll_num = 201, T_Subject=7)\n",
        "details(laptop = \"lenovo\",O_S = \"Window\",year = 2022, version = \"Windows\")"
      ],
      "metadata": {
        "colab": {
          "base_uri": "https://localhost:8080/"
        },
        "id": "nk1SsPkboRVL",
        "outputId": "e07f46ef-5c37-4702-a561-424fec067b6e"
      },
      "execution_count": 948,
      "outputs": [
        {
          "output_type": "stream",
          "name": "stdout",
          "text": [
            "My detals is course and BCA\n",
            "My detals is Section and C\n",
            "My detals is collge and BK college\n",
            "My detals is place and Bengaluru\n",
            "My detals is roll_num and 201\n",
            "My detals is T_Subject and 7\n",
            "My detals is laptop and lenovo\n",
            "My detals is O_S and Window\n",
            "My detals is year and 2022\n",
            "My detals is version and Windows\n"
          ]
        }
      ]
    },
    {
      "cell_type": "code",
      "source": [
        "# Example of *args and **kwargs\n",
        "def Show_values(*args,**kwargs):\n",
        "    print(\"Positional Arguments represented in Tuple\",args)\n",
        "    print(\"Key- words Arguments represented in Dist \",kwargs)\n",
        "Show_values(1,2,3,4,name=\"Utkarsha\")"
      ],
      "metadata": {
        "colab": {
          "base_uri": "https://localhost:8080/"
        },
        "id": "-Is7Cj_Dsesi",
        "outputId": "4b7c6e49-07a8-40e7-9453-778b31752227"
      },
      "execution_count": 949,
      "outputs": [
        {
          "output_type": "stream",
          "name": "stdout",
          "text": [
            "Positional Arguments represented in Tuple (1, 2, 3, 4)\n",
            "Key- words Arguments represented in Dist  {'name': 'Utkarsha'}\n"
          ]
        }
      ]
    },
    {
      "cell_type": "code",
      "source": [
        "i = 1\n",
        "fact=1\n",
        "while i<=5:\n",
        "  fact=fact*i\n",
        "  i=i+1\n",
        "print(fact)"
      ],
      "metadata": {
        "colab": {
          "base_uri": "https://localhost:8080/"
        },
        "id": "_0DBoOVFwvFj",
        "outputId": "dc555bd0-1108-46b8-f791-43ee8121226c"
      },
      "execution_count": 950,
      "outputs": [
        {
          "output_type": "stream",
          "name": "stdout",
          "text": [
            "120\n"
          ]
        }
      ]
    },
    {
      "cell_type": "code",
      "source": [
        "fact = 1\n",
        "for i in range(1,6):\n",
        "  fact=fact*i\n",
        "print(fact)"
      ],
      "metadata": {
        "colab": {
          "base_uri": "https://localhost:8080/"
        },
        "id": "xmqhiu-cxrJK",
        "outputId": "5eb17815-ebe7-41aa-d9f6-638b0524b482"
      },
      "execution_count": 951,
      "outputs": [
        {
          "output_type": "stream",
          "name": "stdout",
          "text": [
            "120\n"
          ]
        }
      ]
    },
    {
      "cell_type": "code",
      "source": [
        "def fact(num):\n",
        "  if num==0 or num==1 :\n",
        "    return num\n",
        "  else:\n",
        "    return num*fact(num-1)\n",
        "print(fact(5))"
      ],
      "metadata": {
        "colab": {
          "base_uri": "https://localhost:8080/"
        },
        "id": "06WXErI90Xji",
        "outputId": "fef586e7-9ab7-40ef-a966-cb39e39d9892"
      },
      "execution_count": 952,
      "outputs": [
        {
          "output_type": "stream",
          "name": "stdout",
          "text": [
            "120\n"
          ]
        }
      ]
    },
    {
      "cell_type": "code",
      "source": [
        "def Sum(num):\n",
        "  if num == 0:\n",
        "    return num\n",
        "  else :\n",
        "    return num+Sum(num-1)\n",
        "print(\"Sum of natural number is:\",Sum(10))"
      ],
      "metadata": {
        "colab": {
          "base_uri": "https://localhost:8080/"
        },
        "id": "gKh-1iGe07bK",
        "outputId": "c6c82609-a876-41eb-bd4e-1970825453b1"
      },
      "execution_count": 953,
      "outputs": [
        {
          "output_type": "stream",
          "name": "stdout",
          "text": [
            "Sum of natural number is: 55\n"
          ]
        }
      ]
    },
    {
      "cell_type": "code",
      "source": [
        "def fibo(num):\n",
        "  if num<= 1:\n",
        "    return num\n",
        "  else:\n",
        "    return fibo(num-1)+fibo(num-2)\n",
        "for i in range(11):\n",
        "  print(fibo(i),end= \"  \")"
      ],
      "metadata": {
        "colab": {
          "base_uri": "https://localhost:8080/"
        },
        "id": "Peem46O03_vy",
        "outputId": "a67b53e0-b15c-43a7-da1f-a1016d6ec5df"
      },
      "execution_count": 954,
      "outputs": [
        {
          "output_type": "stream",
          "name": "stdout",
          "text": [
            "0  1  1  2  3  5  8  13  21  34  55  "
          ]
        }
      ]
    },
    {
      "cell_type": "code",
      "source": [
        "name = \"manu\"\n",
        "print(name[:4])"
      ],
      "metadata": {
        "colab": {
          "base_uri": "https://localhost:8080/"
        },
        "id": "_dlXT-W49BlT",
        "outputId": "b416ed85-cc52-4a50-f2cd-63612bf84c95"
      },
      "execution_count": 955,
      "outputs": [
        {
          "output_type": "stream",
          "name": "stdout",
          "text": [
            "manu\n"
          ]
        }
      ]
    },
    {
      "cell_type": "code",
      "source": [
        "class fruit:\n",
        "  colour = \"Orange\"\n",
        "  price = 250\n",
        "  test = \"Sweet\"\n",
        "  shape = \"Circle\"\n",
        "  def juice(self):\n",
        "   print(\"good\")\n",
        "Orange = fruit()\n",
        "print(\"orange colour is \",Orange.colour)\n"
      ],
      "metadata": {
        "colab": {
          "base_uri": "https://localhost:8080/"
        },
        "id": "xODv5BaUAl2c",
        "outputId": "b2bab039-bed2-46ce-de85-7ced1a01f067"
      },
      "execution_count": 956,
      "outputs": [
        {
          "output_type": "stream",
          "name": "stdout",
          "text": [
            "orange colour is  Orange\n"
          ]
        }
      ]
    },
    {
      "cell_type": "code",
      "source": [
        "class Flower:\n",
        "  Smell=\"nice\"\n",
        "  petal=5\n",
        "  size=\"medium\"\n",
        "  gender=\"female\"\n",
        "  validity = 1.5\n",
        "  def Decoration(self):\n",
        "    print(\"Hello Good Morning\")\n",
        "  def Gift(self):\n",
        "    print(\"Good Afternoon\")\n",
        "  def Marriege(self):\n",
        "    print(\"Marriege\")\n",
        "  def Death(self):\n",
        "    print(\"This flower using for death time\")\n",
        "obj = Flower()\n",
        "obj.Death()"
      ],
      "metadata": {
        "colab": {
          "base_uri": "https://localhost:8080/"
        },
        "id": "UzancjDPMJ6r",
        "outputId": "9ff8cb76-67ea-40ef-a614-fe691db983ec"
      },
      "execution_count": 957,
      "outputs": [
        {
          "output_type": "stream",
          "name": "stdout",
          "text": [
            "This flower using for death time\n"
          ]
        }
      ]
    },
    {
      "cell_type": "code",
      "source": [
        "class fan :\n",
        "  coluor = \"black\"\n",
        "  wings = 3\n",
        "  c_name = \"bajaj\"\n",
        "  price = 1500\n",
        "  warrenty = \"2 years\"\n",
        "  def start(self):\n",
        "      print(\"when click on button it'll start\")\n",
        "  def speed(self):\n",
        "      print(\"based on condition it'll change the speed\")\n",
        "  def stop(self):\n",
        "      print(\"when click on button it'll stop\")\n"
      ],
      "metadata": {
        "id": "bPftbgMuOgJz"
      },
      "execution_count": 958,
      "outputs": []
    },
    {
      "cell_type": "code",
      "source": [
        "def fun(name):\n",
        "  print(\"my name is a\",name)\n",
        "fun(\"UTKARSHA\")"
      ],
      "metadata": {
        "id": "-foXZZNJRTpj",
        "colab": {
          "base_uri": "https://localhost:8080/"
        },
        "outputId": "499c335a-3d5f-482b-9d2e-459a6ce72e91"
      },
      "execution_count": 959,
      "outputs": [
        {
          "output_type": "stream",
          "name": "stdout",
          "text": [
            "my name is a UTKARSHA\n"
          ]
        }
      ]
    },
    {
      "cell_type": "code",
      "source": [
        "# Encapulation Example\n",
        "class Student :\n",
        "  def __init__(self,name,marks,place):\n",
        "    self.__name = name\n",
        "    self.__marks = marks\n",
        "    self.place = place\n",
        "\n",
        "  def set_method(self,name,marks):\n",
        "      self.name = name\n",
        "      self.marks = marks\n",
        "\n",
        "  def get_method(self):\n",
        "    return self.name + \" \" +str(self.marks)\n",
        "\n",
        "Obj = Student (\"Utkarsha\",185,\"Belagavi\")\n",
        "Obj.set_method (\"ABCD\",11)\n",
        "print(Obj.get_method())"
      ],
      "metadata": {
        "colab": {
          "base_uri": "https://localhost:8080/"
        },
        "id": "VFIgUmyCPpTi",
        "outputId": "66015c5e-ff5c-440b-c3d9-4d7e25084c32"
      },
      "execution_count": 960,
      "outputs": [
        {
          "output_type": "stream",
          "name": "stdout",
          "text": [
            "ABCD 11\n"
          ]
        }
      ]
    },
    {
      "cell_type": "code",
      "source": [
        "# Single Inheritance\n",
        "class Parent :\n",
        "  def Work(self):\n",
        "    print(\"My parents are doing farming\")\n",
        "class Children(Parent):\n",
        "  def Study(self):\n",
        "    print(\"I'm studying BCA in BK College\")\n",
        "obj = Children()\n",
        "obj.Work()\n",
        "obj.Study()"
      ],
      "metadata": {
        "colab": {
          "base_uri": "https://localhost:8080/"
        },
        "id": "EBsZgFz3Y55N",
        "outputId": "969bd569-920e-4628-f6cb-c791c62ef283"
      },
      "execution_count": 961,
      "outputs": [
        {
          "output_type": "stream",
          "name": "stdout",
          "text": [
            "My parents are doing farming\n",
            "I'm studying BCA in BK College\n"
          ]
        }
      ]
    },
    {
      "cell_type": "code",
      "source": [
        "# Multiple Inheitance\n",
        "class Father :\n",
        "  def Hi(us):\n",
        "    print(\"My father is my first hero\")\n",
        "class Mother :\n",
        "  def Hello( us):\n",
        "    print(\"My mother is house wife\")\n",
        "class Child(Father,Mother):\n",
        "  def Bye(self):\n",
        "    print(\"I'm studying BCA in BK College\")\n",
        "obj = Child()\n",
        "obj.Hello()\n",
        "obj.Bye()"
      ],
      "metadata": {
        "id": "FiWQsbc3c_R9",
        "outputId": "fb177d90-2062-494d-b758-b272963f8054",
        "colab": {
          "base_uri": "https://localhost:8080/"
        }
      },
      "execution_count": 962,
      "outputs": [
        {
          "output_type": "stream",
          "name": "stdout",
          "text": [
            "My mother is house wife\n",
            "I'm studying BCA in BK College\n"
          ]
        }
      ]
    },
    {
      "cell_type": "code",
      "source": [
        "# Multi level Inheritance\n",
        "class GrandFather :\n",
        "  def Army(self):\n",
        "    print(\" Nation hero\")\n",
        "class Parents (GrandFather):\n",
        "  def Farmer(self):\n",
        "    print(\" Caption of life\")\n",
        "class Child (Parents):\n",
        "  def Student(me):\n",
        "    print(\"Be our own Sunshine\")\n",
        "Obj.GrandFather()\n",
        "Obj.Parent()\n",
        "Obj.Child()"
      ],
      "metadata": {
        "id": "SWaPWDbTfW6G",
        "outputId": "ec11758f-eac8-4a06-93c2-d0c3c5bdeb40",
        "colab": {
          "base_uri": "https://localhost:8080/",
          "height": 211
        }
      },
      "execution_count": 963,
      "outputs": [
        {
          "output_type": "error",
          "ename": "AttributeError",
          "evalue": "'Student' object has no attribute 'GrandFather'",
          "traceback": [
            "\u001b[0;31m---------------------------------------------------------------------------\u001b[0m",
            "\u001b[0;31mAttributeError\u001b[0m                            Traceback (most recent call last)",
            "\u001b[0;32m/tmp/ipython-input-1418905844.py\u001b[0m in \u001b[0;36m<cell line: 0>\u001b[0;34m()\u001b[0m\n\u001b[1;32m      9\u001b[0m   \u001b[0;32mdef\u001b[0m \u001b[0mStudent\u001b[0m\u001b[0;34m(\u001b[0m\u001b[0mme\u001b[0m\u001b[0;34m)\u001b[0m\u001b[0;34m:\u001b[0m\u001b[0;34m\u001b[0m\u001b[0;34m\u001b[0m\u001b[0m\n\u001b[1;32m     10\u001b[0m     \u001b[0mprint\u001b[0m\u001b[0;34m(\u001b[0m\u001b[0;34m\"Be our own Sunshine\"\u001b[0m\u001b[0;34m)\u001b[0m\u001b[0;34m\u001b[0m\u001b[0;34m\u001b[0m\u001b[0m\n\u001b[0;32m---> 11\u001b[0;31m \u001b[0mObj\u001b[0m\u001b[0;34m.\u001b[0m\u001b[0mGrandFather\u001b[0m\u001b[0;34m(\u001b[0m\u001b[0;34m)\u001b[0m\u001b[0;34m\u001b[0m\u001b[0;34m\u001b[0m\u001b[0m\n\u001b[0m\u001b[1;32m     12\u001b[0m \u001b[0mObj\u001b[0m\u001b[0;34m.\u001b[0m\u001b[0mParent\u001b[0m\u001b[0;34m(\u001b[0m\u001b[0;34m)\u001b[0m\u001b[0;34m\u001b[0m\u001b[0;34m\u001b[0m\u001b[0m\n\u001b[1;32m     13\u001b[0m \u001b[0mObj\u001b[0m\u001b[0;34m.\u001b[0m\u001b[0mChild\u001b[0m\u001b[0;34m(\u001b[0m\u001b[0;34m)\u001b[0m\u001b[0;34m\u001b[0m\u001b[0;34m\u001b[0m\u001b[0m\n",
            "\u001b[0;31mAttributeError\u001b[0m: 'Student' object has no attribute 'GrandFather'"
          ]
        }
      ]
    },
    {
      "cell_type": "code",
      "source": [
        "#Hirarchy Inheritance\n",
        "class Parents :\n",
        "  def Business(self):\n",
        "    print(\"My parents are doing Business\")\n",
        "class Child1(Parents):\n",
        "  def Study(self):\n",
        "    print(\"I'm studying BCA in BK College\")\n",
        "class Child2(Parents):\n",
        "  def Study(self):\n",
        "    print(\"I'm studying PUC in JP College\")\n",
        "Ch = Child1()\n",
        "Ch.Business()\n",
        "Ch.Study()\n",
        "\n",
        "Obj = Child2()\n",
        "Obj.Business()\n",
        "Obj.Study()"
      ],
      "metadata": {
        "id": "l-n65KgUiUbu",
        "outputId": "53118e6a-756a-4a67-f078-eb0b038c1456",
        "colab": {
          "base_uri": "https://localhost:8080/"
        }
      },
      "execution_count": 964,
      "outputs": [
        {
          "output_type": "stream",
          "name": "stdout",
          "text": [
            "My parents are doing Business\n",
            "I'm studying BCA in BK College\n",
            "My parents are doing Business\n",
            "I'm studying PUC in JP College\n"
          ]
        }
      ]
    }
  ]
}