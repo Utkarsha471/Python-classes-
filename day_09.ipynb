{
  "nbformat": 4,
  "nbformat_minor": 0,
  "metadata": {
    "colab": {
      "provenance": []
    },
    "kernelspec": {
      "name": "python3",
      "display_name": "Python 3"
    },
    "language_info": {
      "name": "python"
    }
  },
  "cells": [
    {
      "cell_type": "code",
      "execution_count": 82,
      "metadata": {
        "colab": {
          "base_uri": "https://localhost:8080/"
        },
        "id": "J8gvJ64iZnGd",
        "outputId": "e37c75b1-3fea-4605-8c19-cfc405de819e"
      },
      "outputs": [
        {
          "output_type": "stream",
          "name": "stdout",
          "text": [
            "Requirement already satisfied: numpy in /usr/local/lib/python3.12/dist-packages (2.0.2)\n"
          ]
        }
      ],
      "source": [
        "!pip install numpy"
      ]
    },
    {
      "cell_type": "code",
      "source": [
        "\n",
        "import numpy as Utkarsha\n",
        "arr = Utkarsha.array ([1,2,3,4,5])\n",
        "print(\"NumPy Array:\",arr)"
      ],
      "metadata": {
        "colab": {
          "base_uri": "https://localhost:8080/"
        },
        "id": "0YeUXE66gl17",
        "outputId": "a530a240-834e-4db2-93e1-83b77d6b4d93"
      },
      "execution_count": 83,
      "outputs": [
        {
          "output_type": "stream",
          "name": "stdout",
          "text": [
            "NumPy Array: [1 2 3 4 5]\n"
          ]
        }
      ]
    },
    {
      "cell_type": "code",
      "source": [
        "import numpy as np\n",
        "zeros = np.zeros(5)\n",
        "ones = np.ones(5)\n",
        "print(\"Ones \",ones)\n",
        "print(\"Zeros \",zeros)"
      ],
      "metadata": {
        "colab": {
          "base_uri": "https://localhost:8080/"
        },
        "id": "6RaQ0U8LhKM6",
        "outputId": "b201742c-b8b6-4fcd-f8f5-6aeb13f44556"
      },
      "execution_count": 84,
      "outputs": [
        {
          "output_type": "stream",
          "name": "stdout",
          "text": [
            "Ones  [1. 1. 1. 1. 1.]\n",
            "Zeros  [0. 0. 0. 0. 0.]\n"
          ]
        }
      ]
    },
    {
      "cell_type": "code",
      "source": [
        "import numpy as np\n",
        "a = np.array([10,20,30])\n",
        "b = np.array([1,2,3])\n",
        "print(\"Addition \",a+b)\n",
        "print(\"Multiplication:\",a*b)"
      ],
      "metadata": {
        "colab": {
          "base_uri": "https://localhost:8080/"
        },
        "id": "VxKuKnCRjXFj",
        "outputId": "03576c18-5807-4e68-f516-bdc483c1a57c"
      },
      "execution_count": 85,
      "outputs": [
        {
          "output_type": "stream",
          "name": "stdout",
          "text": [
            "Addition  [11 22 33]\n",
            "Multiplication: [10 40 90]\n"
          ]
        }
      ]
    },
    {
      "cell_type": "code",
      "source": [
        "import numpy as np\n",
        "arr = np.array([1,4,9,16])\n",
        "print(\"Squre Root:\",np.sqrt(arr))\n",
        "print(\"Mean:\",np.mean(arr))"
      ],
      "metadata": {
        "colab": {
          "base_uri": "https://localhost:8080/"
        },
        "id": "JGrlJUWRkarq",
        "outputId": "0a7f6709-933d-40f9-b8c5-ca8eeb5d2259"
      },
      "execution_count": 86,
      "outputs": [
        {
          "output_type": "stream",
          "name": "stdout",
          "text": [
            "Squre Root: [1. 2. 3. 4.]\n",
            "Mean: 7.5\n"
          ]
        }
      ]
    },
    {
      "cell_type": "code",
      "source": [
        "import numpy as np\n",
        "from scipy import stats\n",
        "data = np.array([2,4,6,8,10,12,16])\n",
        "mean = np.mean(data)\n",
        "print(\"Mean value is:\",mean)"
      ],
      "metadata": {
        "colab": {
          "base_uri": "https://localhost:8080/"
        },
        "id": "ON3BpZp0ld1j",
        "outputId": "df302941-8361-41ea-b740-fef36ba1c0a0"
      },
      "execution_count": 87,
      "outputs": [
        {
          "output_type": "stream",
          "name": "stdout",
          "text": [
            "Mean value is: 8.285714285714286\n"
          ]
        }
      ]
    },
    {
      "cell_type": "code",
      "source": [
        "import numpy as np\n",
        "from scipy import stats\n",
        "data = np.array([2,4,6,8,10,12,16])\n",
        "mean = np.mean(data)\n",
        "print(\"Mean value is:\",mean)\n",
        "median = np.median(data)\n",
        "print(\"Median value is:\",median)\n",
        "range = np.ptp(data)\n",
        "print(\"Range value is:\",range)\n",
        "mode = stats.mode(data)\n",
        "print(\"Mode value is:\",mode)"
      ],
      "metadata": {
        "colab": {
          "base_uri": "https://localhost:8080/"
        },
        "id": "jS5DpP4EnHia",
        "outputId": "71f4024d-9940-4511-c132-c431f99df0d4"
      },
      "execution_count": 88,
      "outputs": [
        {
          "output_type": "stream",
          "name": "stdout",
          "text": [
            "Mean value is: 8.285714285714286\n",
            "Median value is: 8.0\n",
            "Range value is: 14\n",
            "Mode value is: ModeResult(mode=np.int64(2), count=np.int64(1))\n"
          ]
        }
      ]
    },
    {
      "cell_type": "code",
      "source": [
        "import numpy as np\n",
        "matrix = np.array([[1,2],[3,4,]])\n",
        "print(\"Matrix:\\n\",matrix)\n",
        "print(\"Transpose:\\n\",matrix.T)\n"
      ],
      "metadata": {
        "colab": {
          "base_uri": "https://localhost:8080/"
        },
        "id": "lyDVaEaEoh0r",
        "outputId": "f22a1596-7ab0-405d-cf2d-eb6c925fd6ea"
      },
      "execution_count": 89,
      "outputs": [
        {
          "output_type": "stream",
          "name": "stdout",
          "text": [
            "Matrix:\n",
            " [[1 2]\n",
            " [3 4]]\n",
            "Transpose:\n",
            " [[1 3]\n",
            " [2 4]]\n"
          ]
        }
      ]
    }
  ]
}