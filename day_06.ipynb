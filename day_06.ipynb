{
  "nbformat": 4,
  "nbformat_minor": 0,
  "metadata": {
    "colab": {
      "provenance": []
    },
    "kernelspec": {
      "name": "python3",
      "display_name": "Python 3"
    },
    "language_info": {
      "name": "python"
    }
  },
  "cells": [
    {
      "cell_type": "code",
      "execution_count": 61,
      "metadata": {
        "colab": {
          "base_uri": "https://localhost:8080/"
        },
        "id": "31p8hpjtMdrK",
        "outputId": "aec7ae4b-6c2b-4e26-da5d-5e1bc2f2ff1a"
      },
      "outputs": [
        {
          "output_type": "stream",
          "name": "stdout",
          "text": [
            "      * \n",
            "     * * \n",
            "    * * * \n",
            "   * * * * \n",
            "  * * * * * \n",
            " * * * * * * \n",
            "* * * * * * * \n"
          ]
        }
      ],
      "source": [
        "num = 7\n",
        "for i in range(0,num):\n",
        "    for j in range(0,num-i-1):\n",
        "        print(end=\" \")\n",
        "    for j in range(0,i+1):\n",
        "        print(\"*\",end=\" \")\n",
        "    print()"
      ]
    },
    {
      "cell_type": "code",
      "source": [
        "# 1) Example\n",
        "def Example():\n",
        "  print(\"Good Afternoon\")\n",
        "Example()"
      ],
      "metadata": {
        "colab": {
          "base_uri": "https://localhost:8080/"
        },
        "id": "YXZlIq50R4cU",
        "outputId": "6074d7ce-4618-4dd9-9524-476cb023b2ef"
      },
      "execution_count": 62,
      "outputs": [
        {
          "output_type": "stream",
          "name": "stdout",
          "text": [
            "Good Afternoon\n"
          ]
        }
      ]
    },
    {
      "cell_type": "code",
      "source": [
        "#1)Example\n",
        "def fun(num):\n",
        "  return num*num\n",
        "print (fun(4))"
      ],
      "metadata": {
        "colab": {
          "base_uri": "https://localhost:8080/"
        },
        "id": "Z_Jpn6VBSTA9",
        "outputId": "1923430f-ecbd-4fae-f54a-7177fc919e2a"
      },
      "execution_count": 63,
      "outputs": [
        {
          "output_type": "stream",
          "name": "stdout",
          "text": [
            "16\n"
          ]
        }
      ]
    },
    {
      "cell_type": "code",
      "source": [
        "def add(a,b):\n",
        "  print(f'Addition of two numbers is {a+b}')\n",
        "add(10,20)"
      ],
      "metadata": {
        "colab": {
          "base_uri": "https://localhost:8080/"
        },
        "id": "qF2g6-CBUFl1",
        "outputId": "1e58fe95-ae8f-47f5-8ad8-9bc5592fe8c4"
      },
      "execution_count": 64,
      "outputs": [
        {
          "output_type": "stream",
          "name": "stdout",
          "text": [
            "Addition of two numbers is 30\n"
          ]
        }
      ]
    },
    {
      "cell_type": "code",
      "source": [
        "def Example(roll_number,name,section,department,college):\n",
        "  print(f\"my name is{name},i'm studing in{department},in{college}college.My roll_number is {roll_number}and section{section}\")\n",
        "Example(185,\"Utkarsha\",'A',\"BCA\",\"KLE\")"
      ],
      "metadata": {
        "colab": {
          "base_uri": "https://localhost:8080/"
        },
        "id": "hLm70MEubjKE",
        "outputId": "9937d3a9-4291-41cd-9e34-7b94f4e6994f"
      },
      "execution_count": 65,
      "outputs": [
        {
          "output_type": "stream",
          "name": "stdout",
          "text": [
            "my name isUtkarsha,i'm studing inBCA,inKLEcollege.My roll_number is 185and sectionA\n"
          ]
        }
      ]
    },
    {
      "cell_type": "code",
      "source": [
        "def laptop(name = \"Lenovo\"):\n",
        "  print(f\"My laptop is {name}\")\n",
        "laptop(\"Dell\")\n",
        "laptop()\n",
        "laptop(\"Asus\")"
      ],
      "metadata": {
        "colab": {
          "base_uri": "https://localhost:8080/"
        },
        "id": "9gTEK2xDdwO9",
        "outputId": "90508a78-c2d0-4fe8-b60c-019030fea19e"
      },
      "execution_count": 66,
      "outputs": [
        {
          "output_type": "stream",
          "name": "stdout",
          "text": [
            "My laptop is Dell\n",
            "My laptop is Lenovo\n",
            "My laptop is Asus\n"
          ]
        }
      ]
    }
  ]
}