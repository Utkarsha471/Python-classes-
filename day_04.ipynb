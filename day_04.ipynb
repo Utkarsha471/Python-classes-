{
  "nbformat": 4,
  "nbformat_minor": 0,
  "metadata": {
    "colab": {
      "provenance": []
    },
    "kernelspec": {
      "name": "python3",
      "display_name": "Python 3"
    },
    "language_info": {
      "name": "python"
    }
  },
  "cells": [
    {
      "cell_type": "code",
      "execution_count": 2,
      "metadata": {
        "colab": {
          "base_uri": "https://localhost:8080/"
        },
        "id": "Csn1I9GvFYJ5",
        "outputId": "523860f1-1b6b-4544-d1f0-86469d9c391d"
      },
      "outputs": [
        {
          "output_type": "stream",
          "name": "stdout",
          "text": [
            "Enter the trafic signal colour:green\n",
            "Go\n"
          ]
        }
      ],
      "source": [
        "colour = input(\"Enter the trafic signal colour:\")\n",
        "if colour == \"red\":\n",
        "    print(\"Stop\")\n",
        "elif colour == \"yellow\":\n",
        "    print(\"Slow down\")\n",
        "elif colour == \"green\":\n",
        "    print(\"Go\")\n",
        "else:\n",
        "    print(\"Invalid colour\")\n"
      ]
    }
  ]
}